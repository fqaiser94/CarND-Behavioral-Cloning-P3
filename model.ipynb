{
 "cells": [
  {
   "cell_type": "markdown",
   "metadata": {},
   "source": [
    "# Behavioral Cloning"
   ]
  },
  {
   "cell_type": "markdown",
   "metadata": {},
   "source": [
    "Remaining things to do:  \n",
    "\n",
    "1. Collect more data by going round Track 1 counter clockwise.   \n",
    "2. Collect more data by going on Track 2.  "
   ]
  },
  {
   "cell_type": "markdown",
   "metadata": {},
   "source": [
    "## Admin"
   ]
  },
  {
   "cell_type": "markdown",
   "metadata": {},
   "source": [
    "Load packages"
   ]
  },
  {
   "cell_type": "code",
   "execution_count": 1,
   "metadata": {
    "collapsed": true
   },
   "outputs": [],
   "source": [
    "# standard\n",
    "import numpy as np\n",
    "import pandas as pd\n",
    "import random \n",
    "import os\n",
    "\n",
    "# image processing\n",
    "import cv2\n",
    "# from imgaug import augmenters as iaa\n",
    "\n",
    "\n",
    "# \n",
    "import matplotlib.mlab as mlab\n",
    "\n",
    "# read data\n",
    "import csv\n",
    "\n",
    "# data visualization\n",
    "import matplotlib.pyplot as plt"
   ]
  },
  {
   "cell_type": "code",
   "execution_count": 2,
   "metadata": {},
   "outputs": [],
   "source": [
    "from sklearn.utils import shuffle"
   ]
  },
  {
   "cell_type": "markdown",
   "metadata": {},
   "source": [
    "Set notebook parameters"
   ]
  },
  {
   "cell_type": "code",
   "execution_count": 3,
   "metadata": {
    "collapsed": true
   },
   "outputs": [],
   "source": [
    "%matplotlib inline"
   ]
  },
  {
   "cell_type": "code",
   "execution_count": 4,
   "metadata": {
    "collapsed": true
   },
   "outputs": [],
   "source": [
    "plt.rcParams['figure.figsize'] = (16.0, 6.0)"
   ]
  },
  {
   "cell_type": "code",
   "execution_count": 5,
   "metadata": {
    "collapsed": true
   },
   "outputs": [],
   "source": [
    "# set data location for local machine\n",
    "# data_loc = '/media/fqaiser94/ff3daf1f-fc36-43a4-a218-478126941f2a/behavioral-data/'\n",
    "\n",
    "# set data location for AWS\n",
    "# data_loc = '/home/carnd/Behavioral-data/data/'\n",
    "data_loc = '/home/carnd/farooq_data/'"
   ]
  },
  {
   "cell_type": "code",
   "execution_count": 6,
   "metadata": {
    "collapsed": true
   },
   "outputs": [],
   "source": [
    "batch_size = 32"
   ]
  },
  {
   "cell_type": "markdown",
   "metadata": {},
   "source": [
    "## Tidy data\n",
    "\n",
    "Transform the data into a \"tidy\" state.  "
   ]
  },
  {
   "cell_type": "code",
   "execution_count": 7,
   "metadata": {},
   "outputs": [
    {
     "data": {
      "text/html": [
       "<div>\n",
       "<table border=\"1\" class=\"dataframe\">\n",
       "  <thead>\n",
       "    <tr style=\"text-align: right;\">\n",
       "      <th></th>\n",
       "      <th>center</th>\n",
       "      <th>left</th>\n",
       "      <th>right</th>\n",
       "      <th>steering</th>\n",
       "      <th>throttle</th>\n",
       "      <th>brake</th>\n",
       "      <th>speed</th>\n",
       "    </tr>\n",
       "  </thead>\n",
       "  <tbody>\n",
       "    <tr>\n",
       "      <th>0</th>\n",
       "      <td>IMG/center_2017_12_11_22_00_16_852.jpg</td>\n",
       "      <td>IMG/left_2017_12_11_22_00_16_852.jpg</td>\n",
       "      <td>IMG/right_2017_12_11_22_00_16_852.jpg</td>\n",
       "      <td>0.0</td>\n",
       "      <td>0.0</td>\n",
       "      <td>0.0</td>\n",
       "      <td>0.000002</td>\n",
       "    </tr>\n",
       "    <tr>\n",
       "      <th>1</th>\n",
       "      <td>IMG/center_2017_12_11_22_00_16_951.jpg</td>\n",
       "      <td>IMG/left_2017_12_11_22_00_16_951.jpg</td>\n",
       "      <td>IMG/right_2017_12_11_22_00_16_951.jpg</td>\n",
       "      <td>0.0</td>\n",
       "      <td>0.0</td>\n",
       "      <td>0.0</td>\n",
       "      <td>0.000001</td>\n",
       "    </tr>\n",
       "    <tr>\n",
       "      <th>2</th>\n",
       "      <td>IMG/center_2017_12_11_22_00_17_018.jpg</td>\n",
       "      <td>IMG/left_2017_12_11_22_00_17_018.jpg</td>\n",
       "      <td>IMG/right_2017_12_11_22_00_17_018.jpg</td>\n",
       "      <td>0.0</td>\n",
       "      <td>0.0</td>\n",
       "      <td>0.0</td>\n",
       "      <td>0.000007</td>\n",
       "    </tr>\n",
       "    <tr>\n",
       "      <th>3</th>\n",
       "      <td>IMG/center_2017_12_11_22_00_17_102.jpg</td>\n",
       "      <td>IMG/left_2017_12_11_22_00_17_102.jpg</td>\n",
       "      <td>IMG/right_2017_12_11_22_00_17_102.jpg</td>\n",
       "      <td>0.0</td>\n",
       "      <td>0.0</td>\n",
       "      <td>0.0</td>\n",
       "      <td>0.000002</td>\n",
       "    </tr>\n",
       "    <tr>\n",
       "      <th>4</th>\n",
       "      <td>IMG/center_2017_12_11_22_00_17_202.jpg</td>\n",
       "      <td>IMG/left_2017_12_11_22_00_17_202.jpg</td>\n",
       "      <td>IMG/right_2017_12_11_22_00_17_202.jpg</td>\n",
       "      <td>0.0</td>\n",
       "      <td>0.0</td>\n",
       "      <td>0.0</td>\n",
       "      <td>0.000008</td>\n",
       "    </tr>\n",
       "  </tbody>\n",
       "</table>\n",
       "</div>"
      ],
      "text/plain": [
       "                                   center  \\\n",
       "0  IMG/center_2017_12_11_22_00_16_852.jpg   \n",
       "1  IMG/center_2017_12_11_22_00_16_951.jpg   \n",
       "2  IMG/center_2017_12_11_22_00_17_018.jpg   \n",
       "3  IMG/center_2017_12_11_22_00_17_102.jpg   \n",
       "4  IMG/center_2017_12_11_22_00_17_202.jpg   \n",
       "\n",
       "                                   left  \\\n",
       "0  IMG/left_2017_12_11_22_00_16_852.jpg   \n",
       "1  IMG/left_2017_12_11_22_00_16_951.jpg   \n",
       "2  IMG/left_2017_12_11_22_00_17_018.jpg   \n",
       "3  IMG/left_2017_12_11_22_00_17_102.jpg   \n",
       "4  IMG/left_2017_12_11_22_00_17_202.jpg   \n",
       "\n",
       "                                   right  steering  throttle  brake     speed  \n",
       "0  IMG/right_2017_12_11_22_00_16_852.jpg       0.0       0.0    0.0  0.000002  \n",
       "1  IMG/right_2017_12_11_22_00_16_951.jpg       0.0       0.0    0.0  0.000001  \n",
       "2  IMG/right_2017_12_11_22_00_17_018.jpg       0.0       0.0    0.0  0.000007  \n",
       "3  IMG/right_2017_12_11_22_00_17_102.jpg       0.0       0.0    0.0  0.000002  \n",
       "4  IMG/right_2017_12_11_22_00_17_202.jpg       0.0       0.0    0.0  0.000008  "
      ]
     },
     "execution_count": 7,
     "metadata": {},
     "output_type": "execute_result"
    }
   ],
   "source": [
    "raw_data = pd.read_csv(\n",
    "    data_loc + 'driving_log.csv', index_col=False)\n",
    "\n",
    "raw_data.head()"
   ]
  },
  {
   "cell_type": "code",
   "execution_count": 8,
   "metadata": {
    "collapsed": true
   },
   "outputs": [],
   "source": [
    "images_paths = []\n",
    "steering_angles = []\n",
    "camera = []\n",
    "\n",
    "angle_shift_dict = dict({\n",
    "        'left': 0.25, \n",
    "        'center': 0.00, \n",
    "        'right': -0.25\n",
    "    })\n",
    "\n",
    "for i in ['left', 'center', 'right']: \n",
    "    \n",
    "    image_path = raw_data[i].tolist()\n",
    "    \n",
    "    angle = raw_data['steering'] + angle_shift_dict.get(i)\n",
    "    \n",
    "    images_paths.extend(image_path)\n",
    "    steering_angles.extend(angle)"
   ]
  },
  {
   "cell_type": "code",
   "execution_count": 9,
   "metadata": {},
   "outputs": [
    {
     "data": {
      "text/html": [
       "<div>\n",
       "<table border=\"1\" class=\"dataframe\">\n",
       "  <thead>\n",
       "    <tr style=\"text-align: right;\">\n",
       "      <th></th>\n",
       "      <th>image_path</th>\n",
       "      <th>steering_angle</th>\n",
       "    </tr>\n",
       "  </thead>\n",
       "  <tbody>\n",
       "    <tr>\n",
       "      <th>0</th>\n",
       "      <td>IMG/left_2017_12_11_22_00_16_852.jpg</td>\n",
       "      <td>0.25</td>\n",
       "    </tr>\n",
       "    <tr>\n",
       "      <th>1</th>\n",
       "      <td>IMG/left_2017_12_11_22_00_16_951.jpg</td>\n",
       "      <td>0.25</td>\n",
       "    </tr>\n",
       "    <tr>\n",
       "      <th>2</th>\n",
       "      <td>IMG/left_2017_12_11_22_00_17_018.jpg</td>\n",
       "      <td>0.25</td>\n",
       "    </tr>\n",
       "    <tr>\n",
       "      <th>3</th>\n",
       "      <td>IMG/left_2017_12_11_22_00_17_102.jpg</td>\n",
       "      <td>0.25</td>\n",
       "    </tr>\n",
       "    <tr>\n",
       "      <th>4</th>\n",
       "      <td>IMG/left_2017_12_11_22_00_17_202.jpg</td>\n",
       "      <td>0.25</td>\n",
       "    </tr>\n",
       "  </tbody>\n",
       "</table>\n",
       "</div>"
      ],
      "text/plain": [
       "                             image_path  steering_angle\n",
       "0  IMG/left_2017_12_11_22_00_16_852.jpg            0.25\n",
       "1  IMG/left_2017_12_11_22_00_16_951.jpg            0.25\n",
       "2  IMG/left_2017_12_11_22_00_17_018.jpg            0.25\n",
       "3  IMG/left_2017_12_11_22_00_17_102.jpg            0.25\n",
       "4  IMG/left_2017_12_11_22_00_17_202.jpg            0.25"
      ]
     },
     "execution_count": 9,
     "metadata": {},
     "output_type": "execute_result"
    }
   ],
   "source": [
    "# make normalized df\n",
    "tidy_data =  pd.DataFrame({'image_path': images_paths, \n",
    "                          'steering_angle': steering_angles})\n",
    "\n",
    "tidy_data.head()"
   ]
  },
  {
   "cell_type": "markdown",
   "metadata": {},
   "source": [
    "## EDA"
   ]
  },
  {
   "cell_type": "code",
   "execution_count": 10,
   "metadata": {},
   "outputs": [
    {
     "data": {
      "image/png": "[encoded data removed]",
      "text/plain": [
       "<matplotlib.figure.Figure at 0x7f5760883898>"
      ]
     },
     "metadata": {},
     "output_type": "display_data"
    }
   ],
   "source": [
    "num_bins = 10\n",
    "# the histogram of the data\n",
    "n, bins, patches = plt.hist(tidy_data.steering_angle, num_bins, normed=1, facecolor='blue', alpha=0.5)\n",
    " \n",
    "# add a 'best fit' line\n",
    "mu = np.mean(tidy_data.steering_angle)\n",
    "sigma = np.std(tidy_data.steering_angle)\n",
    "y = mlab.normpdf(bins, mu, sigma)\n",
    "\n",
    "plt.plot(bins, y)\n",
    "plt.xlabel('Steering Angle')\n",
    "plt.ylabel('Probability')\n",
    "plt.title('Histogram of steering angles')\n",
    " \n",
    "# Tweak spacing to prevent clipping of ylabel\n",
    "plt.subplots_adjust(left=0.15)\n",
    "plt.show()"
   ]
  },
  {
   "cell_type": "markdown",
   "metadata": {},
   "source": [
    "The vast majority of steering angles distributed around 0.  \n",
    "If we're not careful about this, our model may be biased towards steering straight. Naturally this would be a problem when we encounter turns.  "
   ]
  },
  {
   "cell_type": "markdown",
   "metadata": {},
   "source": [
    "## Training and validation data\n",
    "\n",
    "Split data into training and validation.  \n",
    "We don't need testing data as we will simply get our model to drive a car around a track for testing purposes. "
   ]
  },
  {
   "cell_type": "code",
   "execution_count": 11,
   "metadata": {
    "collapsed": true
   },
   "outputs": [],
   "source": [
    "tidy_data = shuffle(tidy_data)"
   ]
  },
  {
   "cell_type": "code",
   "execution_count": 12,
   "metadata": {
    "collapsed": true
   },
   "outputs": [],
   "source": [
    "total_samples = len(tidy_data)"
   ]
  },
  {
   "cell_type": "code",
   "execution_count": 13,
   "metadata": {
    "collapsed": true
   },
   "outputs": [],
   "source": [
    "training_count = int(0.8 * total_samples)"
   ]
  },
  {
   "cell_type": "code",
   "execution_count": 14,
   "metadata": {
    "collapsed": true
   },
   "outputs": [],
   "source": [
    "training_data = tidy_data[:training_count].reset_index()\n",
    "validation_data = tidy_data[training_count:].reset_index()"
   ]
  },
  {
   "cell_type": "code",
   "execution_count": 15,
   "metadata": {},
   "outputs": [
    {
     "name": "stdout",
     "output_type": "stream",
     "text": [
      "Total number of samples: 51585\n",
      "\n",
      "Training samples: 41268\n",
      "Validation samples: 10317\n"
     ]
    }
   ],
   "source": [
    "print('Total number of samples: %s' %total_samples)\n",
    "print('')\n",
    "print('Training samples: %s' %len(training_data))\n",
    "print('Validation samples: %s' %len(validation_data))"
   ]
  },
  {
   "cell_type": "markdown",
   "metadata": {},
   "source": [
    "## Data generator\n",
    "\n",
    "Too much data to fit into memory.  \n",
    "We will use a generator to 'yield' data as needed. "
   ]
  },
  {
   "cell_type": "code",
   "execution_count": 16,
   "metadata": {
    "collapsed": true
   },
   "outputs": [],
   "source": [
    "def sample_data(data, batch_size):\n",
    "    \"\"\"\n",
    "    Randomly samples data from a given df  \n",
    "    \"\"\"\n",
    "    \n",
    "    return data.sample(n=batch_size)"
   ]
  },
  {
   "cell_type": "code",
   "execution_count": 17,
   "metadata": {
    "collapsed": true
   },
   "outputs": [],
   "source": [
    "def generate_bins(data, number_of_bins):\n",
    "    \n",
    "    # bin data \n",
    "    bins = np.linspace(\n",
    "        start = data.steering_angle.min(), \n",
    "        stop = data.steering_angle.max(), \n",
    "        num = number_of_bins\n",
    "    )\n",
    "\n",
    "    return bins"
   ]
  },
  {
   "cell_type": "code",
   "execution_count": 18,
   "metadata": {},
   "outputs": [
    {
     "data": {
      "text/plain": [
       "array([-1.25      , -0.97222222, -0.69444444, -0.41666667, -0.13888889,\n",
       "        0.13888889,  0.41666667,  0.69444444,  0.97222222,  1.25      ])"
      ]
     },
     "execution_count": 18,
     "metadata": {},
     "output_type": "execute_result"
    }
   ],
   "source": [
    "generate_bins(tidy_data, 10)"
   ]
  },
  {
   "cell_type": "code",
   "execution_count": 19,
   "metadata": {
    "collapsed": true
   },
   "outputs": [],
   "source": [
    "def sample_data_uniformly(data, bins, batch_size):\n",
    "    \"\"\"\n",
    "    Randomly samples from each bin in data from a given df  \n",
    "    \"\"\"\n",
    "    \n",
    "    data['steering_angle_bin'] = pd.cut(\n",
    "        x=data.steering_angle, \n",
    "        bins=bins\n",
    "    )\n",
    "\n",
    "    data = (\n",
    "        data\n",
    "        .groupby('steering_angle_bin')\n",
    "        .apply(lambda x: x.sample(batch_size, replace=True))\n",
    "        .reset_index(drop=True)\n",
    "        #.drop('steering_angle_bin') # dont know why this isn't working\n",
    "        .sample(batch_size, replace=True) \n",
    "    )\n",
    "    \n",
    "    return data"
   ]
  },
  {
   "cell_type": "code",
   "execution_count": 20,
   "metadata": {
    "collapsed": true
   },
   "outputs": [],
   "source": [
    "def get_image(data, \n",
    "              data_path, \n",
    "              index):\n",
    "    \"\"\"\n",
    "    get image and angle\n",
    "    \"\"\"\n",
    "    \n",
    "    image_path = data['image_path'][index].strip()\n",
    "    imageBGR = cv2.imread(os.path.join(data_path, image_path))\n",
    "    \n",
    "    # cv2.imread reads in images in BGR format. \n",
    "    # drive.py actually sends images in RGB format to our model\n",
    "    # therefore we need to train our model on RGB images\n",
    "    imageRGB = cv2.cvtColor(imageBGR, cv2.COLOR_BGR2RGB)\n",
    "    \n",
    "    steering_angle = float(data['steering_angle'][index])\n",
    "    \n",
    "    return imageRGB, steering_angle"
   ]
  },
  {
   "cell_type": "code",
   "execution_count": 21,
   "metadata": {},
   "outputs": [
    {
     "data": {
      "text/plain": [
       "(160, 320, 3)"
      ]
     },
     "execution_count": 21,
     "metadata": {},
     "output_type": "execute_result"
    }
   ],
   "source": [
    "image, steering_angle = get_image(data=tidy_data, data_path=data_loc, index=1)\n",
    "\n",
    "image.shape"
   ]
  },
  {
   "cell_type": "code",
   "execution_count": 22,
   "metadata": {
    "collapsed": true
   },
   "outputs": [],
   "source": [
    "def rgb2y(array):\n",
    "    \"\"\"\n",
    "    convert array of images from RGB to Y\n",
    "    \"\"\"\n",
    "    \n",
    "    array_y = np.empty((len(array), 32, 32, 1))\n",
    "    \n",
    "    for i in range(len(array)):\n",
    "    \n",
    "        img_yuv = cv2.cvtColor(np.array(array[i], dtype=np.uint8), cv2.COLOR_BGR2YUV, 1)\n",
    "        y, u, v = cv2.split(img_yuv)\n",
    "        \n",
    "        y_reshaped = np.reshape(y, y.shape + (1,))\n",
    "\n",
    "        array_y[i] = y_reshaped\n",
    "        \n",
    "    return array_y"
   ]
  },
  {
   "cell_type": "code",
   "execution_count": 23,
   "metadata": {
    "collapsed": true
   },
   "outputs": [],
   "source": [
    "def flip_images(image, angle): \n",
    "    \n",
    "    image_flipped = np.fliplr(image)\n",
    "    angle_flipped = -angle\n",
    "    \n",
    "    return image_flipped, angle_flipped"
   ]
  },
  {
   "cell_type": "code",
   "execution_count": 24,
   "metadata": {
    "collapsed": true
   },
   "outputs": [],
   "source": [
    "def data_generator(data, data_path, batch_size):\n",
    "    \"\"\"\n",
    "    generates image and label data\n",
    "    \"\"\"\n",
    "    \n",
    "    while 1:\n",
    "        \n",
    "        # init features and label arrays\n",
    "        features = np.empty([batch_size, 160, 320, 3])\n",
    "        labels = np.empty([batch_size, 1])\n",
    "        \n",
    "        # sample a batch of data \n",
    "        batch = sample_data(\n",
    "            data=data, \n",
    "            batch_size=batch_size\n",
    "        )\n",
    "        \n",
    "        # sample data uniformly\n",
    "        #bins = generate_bins(data, 10)\n",
    "        \n",
    "        #batch = sample_data_uniformly(\n",
    "        #    data=data, \n",
    "        #    batch_size=batch_size, \n",
    "        #    bins=bins\n",
    "        #)\n",
    "        \n",
    "        # convert to single channel?\n",
    "        \n",
    "        \n",
    "        # flip images to create more data\n",
    "        \n",
    "        \n",
    "        # translate images to create more data\n",
    "        \n",
    "        \n",
    "        # return image features and label\n",
    "        for i, value in enumerate(batch.index.values):\n",
    "            \n",
    "            # get image\n",
    "            image, steering_angle  = get_image(data = data, \n",
    "                                               data_path = data_path, \n",
    "                                               index = value)\n",
    "            \n",
    "            #images = []\n",
    "            #angles = []\n",
    "            \n",
    "            # og image\n",
    "            #images.append(image)\n",
    "            #angles.append(measurement)\n",
    "            \n",
    "            # og image flipped\n",
    "            #images.append(cv2.flip(image,1))\n",
    "            #angles.append(measurement*-1.0)\n",
    "            \n",
    "            features[i] = image\n",
    "            labels[i] = steering_angle\n",
    "            \n",
    "            yield np.array(features), np.array(labels)"
   ]
  },
  {
   "cell_type": "code",
   "execution_count": 25,
   "metadata": {
    "collapsed": true
   },
   "outputs": [],
   "source": [
    "# initialize generators\n",
    "train_generator = data_generator(\n",
    "    data=training_data, \n",
    "    data_path=data_loc,\n",
    "    batch_size=batch_size\n",
    ")\n",
    "\n",
    "validation_generator = data_generator(\n",
    "    data=validation_data, \n",
    "    data_path=data_loc,\n",
    "    batch_size=batch_size\n",
    ")"
   ]
  },
  {
   "cell_type": "markdown",
   "metadata": {},
   "source": [
    "## NVIDIA model \n",
    "\n",
    "Our model will be based on an architecture previously developed at NVIDIA.  \n",
    "\n",
    "![NVIDIA Self Driving Car Architecture](https://devblogs.nvidia.com/parallelforall/wp-content/uploads/2016/08/cnn-architecture-624x890.png)\n",
    "\n",
    "For more information, see the following [link](https://devblogs.nvidia.com/parallelforall/deep-learning-self-driving-cars/). "
   ]
  },
  {
   "cell_type": "code",
   "execution_count": 26,
   "metadata": {},
   "outputs": [
    {
     "name": "stderr",
     "output_type": "stream",
     "text": [
      "Using TensorFlow backend.\n"
     ]
    }
   ],
   "source": [
    "from keras.models import Sequential, Model\n",
    "from keras.layers import Flatten, Dense, Lambda, Cropping2D, Convolution2D"
   ]
  },
  {
   "cell_type": "code",
   "execution_count": 27,
   "metadata": {
    "collapsed": true
   },
   "outputs": [],
   "source": [
    "def NVIDIA_model():\n",
    "    \"\"\"\n",
    "    Creates nVidea Autonomous Car Group model\n",
    "    \"\"\"\n",
    "    \n",
    "    # \n",
    "    model = Sequential()\n",
    "\n",
    "    # Preprocess incoming data, centered around zero with small standard deviation \n",
    "    model.add(Lambda(lambda x: (x / 255.0) - 0.5, input_shape=(160,320,3)))\n",
    "\n",
    "    # crop images to reduce memory impact and remove noise\n",
    "    # returns img of shape (80,320,3)\n",
    "    model.add(Cropping2D(cropping=((50,20), (0,0))))\n",
    "    \n",
    "    model.add(Convolution2D(24, (5,5), strides=(2,2), activation='relu'))\n",
    "    model.add(Convolution2D(36, (5,5), strides=(2,2), activation='relu'))\n",
    "    model.add(Convolution2D(48, (5,5), strides=(2,2), activation='relu'))\n",
    "    model.add(Convolution2D(64, (3,3), activation='relu'))\n",
    "    model.add(Convolution2D(64, (3,3), activation='relu'))\n",
    "    model.add(Flatten())\n",
    "    model.add(Dense(100))\n",
    "    model.add(Dense(50))\n",
    "    model.add(Dense(10))\n",
    "    model.add(Dense(1))\n",
    "    \n",
    "    # compile\n",
    "    model.compile(loss='mse', optimizer='adam')\n",
    "    \n",
    "    return model"
   ]
  },
  {
   "cell_type": "code",
   "execution_count": 28,
   "metadata": {
    "collapsed": true
   },
   "outputs": [],
   "source": [
    "# init model\n",
    "model = NVIDIA_model()"
   ]
  },
  {
   "cell_type": "code",
   "execution_count": 29,
   "metadata": {},
   "outputs": [
    {
     "name": "stdout",
     "output_type": "stream",
     "text": [
      "Epoch 1/5\n",
      "1290/1289 [==============================] - 126s 98ms/step - loss: 0.0906 - val_loss: 0.1186\n",
      "Epoch 2/5\n",
      "1290/1289 [==============================] - 122s 95ms/step - loss: 0.0714 - val_loss: nan\n",
      "Epoch 3/5\n",
      "1290/1289 [==============================] - 122s 95ms/step - loss: 0.0874 - val_loss: 0.1314\n",
      "Epoch 4/5\n",
      "1290/1289 [==============================] - 122s 95ms/step - loss: 0.0792 - val_loss: 0.1024\n",
      "Epoch 5/5\n",
      "1290/1289 [==============================] - 122s 94ms/step - loss: 0.0930 - val_loss: 0.1002\n"
     ]
    }
   ],
   "source": [
    "# fit  \n",
    "history_object = model.fit_generator(\n",
    "    \n",
    "    generator = train_generator, \n",
    "    steps_per_epoch = len(training_data)/batch_size, \n",
    "    \n",
    "    validation_data = validation_generator,\n",
    "    validation_steps = len(validation_data)/batch_size, \n",
    "    \n",
    "    epochs=5, \n",
    "    verbose=1\n",
    ")"
   ]
  },
  {
   "cell_type": "code",
   "execution_count": 30,
   "metadata": {
    "collapsed": true
   },
   "outputs": [],
   "source": [
    "# save model\n",
    "model.save('model_20171215_2020.h5')"
   ]
  },
  {
   "cell_type": "code",
   "execution_count": 31,
   "metadata": {},
   "outputs": [
    {
     "name": "stdout",
     "output_type": "stream",
     "text": [
      "dict_keys(['loss', 'val_loss'])\n"
     ]
    },
    {
     "data": {
      "image/png": "[encoded data removed]",
      "text/plain": [
       "<matplotlib.figure.Figure at 0x7f57284e4cf8>"
      ]
     },
     "metadata": {},
     "output_type": "display_data"
    }
   ],
   "source": [
    "### print the keys contained in the history object\n",
    "print(history_object.history.keys())\n",
    "\n",
    "### plot the training and validation loss for each epoch\n",
    "plt.plot(history_object.history['loss'])\n",
    "plt.plot(history_object.history['val_loss'])\n",
    "plt.title('model mean squared error loss')\n",
    "plt.ylabel('mean squared error loss')\n",
    "plt.xlabel('epoch')\n",
    "plt.legend(['training set', 'validation set'], loc='upper right')\n",
    "plt.show()"
   ]
  },
  {
   "cell_type": "code",
   "execution_count": null,
   "metadata": {
    "collapsed": true
   },
   "outputs": [],
   "source": []
  },
  {
   "cell_type": "code",
   "execution_count": null,
   "metadata": {
    "collapsed": true
   },
   "outputs": [],
   "source": []
  },
  {
   "cell_type": "code",
   "execution_count": null,
   "metadata": {
    "collapsed": true
   },
   "outputs": [],
   "source": []
  },
  {
   "cell_type": "code",
   "execution_count": null,
   "metadata": {
    "collapsed": true
   },
   "outputs": [],
   "source": []
  },
  {
   "cell_type": "code",
   "execution_count": null,
   "metadata": {
    "collapsed": true
   },
   "outputs": [],
   "source": []
  },
  {
   "cell_type": "code",
   "execution_count": null,
   "metadata": {
    "collapsed": true
   },
   "outputs": [],
   "source": []
  },
  {
   "cell_type": "code",
   "execution_count": null,
   "metadata": {
    "collapsed": true
   },
   "outputs": [],
   "source": []
  },
  {
   "cell_type": "code",
   "execution_count": null,
   "metadata": {
    "collapsed": true
   },
   "outputs": [],
   "source": []
  },
  {
   "cell_type": "code",
   "execution_count": null,
   "metadata": {
    "collapsed": true
   },
   "outputs": [],
   "source": []
  },
  {
   "cell_type": "code",
   "execution_count": null,
   "metadata": {
    "collapsed": true
   },
   "outputs": [],
   "source": []
  },
  {
   "cell_type": "code",
   "execution_count": null,
   "metadata": {
    "collapsed": true
   },
   "outputs": [],
   "source": []
  },
  {
   "cell_type": "code",
   "execution_count": null,
   "metadata": {
    "collapsed": true
   },
   "outputs": [],
   "source": []
  },
  {
   "cell_type": "code",
   "execution_count": null,
   "metadata": {
    "collapsed": true
   },
   "outputs": [],
   "source": []
  },
  {
   "cell_type": "markdown",
   "metadata": {},
   "source": [
    "## Preprocess data"
   ]
  },
  {
   "cell_type": "markdown",
   "metadata": {},
   "source": [
    "### Image flip\n",
    "To combat this bias, we'll do flip some images to create \"new\" images. "
   ]
  },
  {
   "cell_type": "code",
   "execution_count": 32,
   "metadata": {},
   "outputs": [
    {
     "name": "stdout",
     "output_type": "stream",
     "text": [
      "0.397986273257\n",
      "-0.422367110695\n"
     ]
    }
   ],
   "source": [
    "angle_max = mu + sigma\n",
    "angle_min = mu - sigma\n",
    "\n",
    "print(angle_max)\n",
    "print(angle_min)"
   ]
  },
  {
   "cell_type": "code",
   "execution_count": 33,
   "metadata": {},
   "outputs": [
    {
     "ename": "NameError",
     "evalue": "name 'angles' is not defined",
     "output_type": "error",
     "traceback": [
      "\u001b[0;31m---------------------------------------------------------------------------\u001b[0m",
      "\u001b[0;31mNameError\u001b[0m                                 Traceback (most recent call last)",
      "\u001b[0;32m<ipython-input-33-5c9ea19ca620>\u001b[0m in \u001b[0;36m<module>\u001b[0;34m()\u001b[0m\n\u001b[0;32m----> 1\u001b[0;31m \u001b[0mtemp\u001b[0m \u001b[0;34m=\u001b[0m \u001b[0mnp\u001b[0m\u001b[0;34m.\u001b[0m\u001b[0mwhere\u001b[0m\u001b[0;34m(\u001b[0m\u001b[0;34m(\u001b[0m\u001b[0mangles\u001b[0m \u001b[0;34m>\u001b[0m \u001b[0mangle_max\u001b[0m\u001b[0;34m)\u001b[0m \u001b[0;34m|\u001b[0m \u001b[0;34m(\u001b[0m\u001b[0mangles\u001b[0m \u001b[0;34m<\u001b[0m \u001b[0mangle_min\u001b[0m\u001b[0;34m)\u001b[0m\u001b[0;34m)\u001b[0m\u001b[0;34m\u001b[0m\u001b[0m\n\u001b[0m\u001b[1;32m      2\u001b[0m \u001b[0;34m\u001b[0m\u001b[0m\n\u001b[1;32m      3\u001b[0m \u001b[0mimages_flipped\u001b[0m \u001b[0;34m=\u001b[0m \u001b[0mnp\u001b[0m\u001b[0;34m.\u001b[0m\u001b[0mfliplr\u001b[0m\u001b[0;34m(\u001b[0m\u001b[0mimages\u001b[0m\u001b[0;34m[\u001b[0m\u001b[0mtemp\u001b[0m\u001b[0;34m]\u001b[0m\u001b[0;34m)\u001b[0m\u001b[0;34m\u001b[0m\u001b[0m\n\u001b[1;32m      4\u001b[0m \u001b[0mangles_flipped\u001b[0m \u001b[0;34m=\u001b[0m \u001b[0;34m-\u001b[0m\u001b[0mangles\u001b[0m\u001b[0;34m[\u001b[0m\u001b[0mtemp\u001b[0m\u001b[0;34m]\u001b[0m\u001b[0;34m\u001b[0m\u001b[0m\n\u001b[1;32m      5\u001b[0m \u001b[0;34m\u001b[0m\u001b[0m\n",
      "\u001b[0;31mNameError\u001b[0m: name 'angles' is not defined"
     ]
    }
   ],
   "source": [
    "temp = np.where((angles > angle_max) | (angles < angle_min))\n",
    "\n",
    "images_flipped = np.fliplr(images[temp])\n",
    "angles_flipped = -angles[temp]\n",
    "\n",
    "temp_images = np.vstack((images, images_flipped))\n",
    "temp_angles = np.hstack((angles, angles_flipped))"
   ]
  },
  {
   "cell_type": "markdown",
   "metadata": {},
   "source": [
    "### Uniform sampling "
   ]
  },
  {
   "cell_type": "code",
   "execution_count": null,
   "metadata": {
    "collapsed": true
   },
   "outputs": [],
   "source": [
    "angles_bins = np.digitize(angles, bins)\n",
    "angles_y = np.array([y[i-1] for i in angles_bins])"
   ]
  },
  {
   "cell_type": "code",
   "execution_count": null,
   "metadata": {
    "collapsed": true
   },
   "outputs": [],
   "source": [
    "new = np.array([])\n",
    "\n",
    "for bin_number in np.unique(angles_bins): \n",
    "    \n",
    "    i = np.where(angles_bins==bin_number)\n",
    "    i = np.array(i).flatten()\n",
    "    i_random = np.random.choice(a=i, size=500,replace=True)\n",
    "\n",
    "    new = np.hstack((new, i_random))\n",
    "    \n",
    "new.shape"
   ]
  },
  {
   "cell_type": "code",
   "execution_count": null,
   "metadata": {
    "collapsed": true
   },
   "outputs": [],
   "source": [
    "images_uni_sample = np.array([images[int(i)] for i in new])\n",
    "angles_uni_sample = np.array([angles[int(i)] for i in new])"
   ]
  },
  {
   "cell_type": "code",
   "execution_count": null,
   "metadata": {
    "collapsed": true
   },
   "outputs": [],
   "source": [
    "num_bins = 30\n",
    "\n",
    "n, bins, patches = plt.hist(angles_uni_sample, num_bins, normed=1, facecolor='blue', alpha=0.5)\n",
    "\n",
    "# plt.plot(bins, y)\n",
    "plt.xlabel('Steering Angle')\n",
    "plt.ylabel('Probability')\n",
    "plt.title('Histogram of steering angles')\n",
    " \n",
    "# Tweak spacing to prevent clipping of ylabel\n",
    "plt.subplots_adjust(left=0.15)\n",
    "plt.show()"
   ]
  }
 ],
 "metadata": {
  "kernelspec": {
   "display_name": "Python 3",
   "language": "python",
   "name": "python3"
  },
  "language_info": {
   "codemirror_mode": {
    "name": "ipython",
    "version": 3
   },
   "file_extension": ".py",
   "mimetype": "text/x-python",
   "name": "python",
   "nbconvert_exporter": "python",
   "pygments_lexer": "ipython3",
   "version": "3.5.2"
  },
  "widgets": {
   "state": {},
   "version": "1.1.2"
  }
 },
 "nbformat": 4,
 "nbformat_minor": 2
}
